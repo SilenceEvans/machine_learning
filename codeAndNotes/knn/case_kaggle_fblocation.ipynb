{
 "cells": [
  {
   "cell_type": "code",
   "execution_count": 2,
   "id": "eba657f1",
   "metadata": {},
   "outputs": [],
   "source": [
    "import pandas as pd\n",
    "from sklearn.model_selection import train_test_split,GridSearchCV\n",
    "from sklearn.preprocessing import StandardScaler\n",
    "from sklearn.neighbors import KNeighborsClassifier"
   ]
  },
  {
   "cell_type": "code",
   "execution_count": 1,
   "id": "96b7129c",
   "metadata": {},
   "outputs": [
    {
     "ename": "NameError",
     "evalue": "name 'pd' is not defined",
     "output_type": "error",
     "traceback": [
      "\u001B[0;31m---------------------------------------------------------------------------\u001B[0m",
      "\u001B[0;31mNameError\u001B[0m                                 Traceback (most recent call last)",
      "\u001B[0;32m/var/folders/mt/xrw8y41160l8l58wm8mwkmh80000gn/T/ipykernel_27647/2929032142.py\u001B[0m in \u001B[0;36m<module>\u001B[0;34m\u001B[0m\n\u001B[1;32m      1\u001B[0m \u001B[0;31m# 0.读取数据\u001B[0m\u001B[0;34m\u001B[0m\u001B[0;34m\u001B[0m\u001B[0;34m\u001B[0m\u001B[0m\n\u001B[0;32m----> 2\u001B[0;31m \u001B[0mdata\u001B[0m \u001B[0;34m=\u001B[0m \u001B[0mpd\u001B[0m\u001B[0;34m.\u001B[0m\u001B[0mread_csv\u001B[0m\u001B[0;34m(\u001B[0m\u001B[0;34m'./FBlocation/train.csv'\u001B[0m\u001B[0;34m)\u001B[0m\u001B[0;34m\u001B[0m\u001B[0;34m\u001B[0m\u001B[0m\n\u001B[0m\u001B[1;32m      3\u001B[0m \u001B[0mdata\u001B[0m\u001B[0;34m.\u001B[0m\u001B[0mhead\u001B[0m\u001B[0;34m(\u001B[0m\u001B[0;34m)\u001B[0m\u001B[0;34m\u001B[0m\u001B[0;34m\u001B[0m\u001B[0m\n\u001B[1;32m      4\u001B[0m \u001B[0;34m\u001B[0m\u001B[0m\n",
      "\u001B[0;31mNameError\u001B[0m: name 'pd' is not defined"
     ]
    }
   ],
   "source": [
    "# 0.读取数据\n",
    "data = pd.read_csv('./FBlocation/train.csv')\n",
    "data.head()"
   ]
  },
  {
   "cell_type": "code",
   "execution_count": 39,
   "id": "2c3ab06d",
   "metadata": {},
   "outputs": [
    {
     "data": {
      "text/plain": [
       "82          9313893105\n",
       "91          4639582171\n",
       "93          2677147592\n",
       "101         3762957785\n",
       "122         8663061061\n",
       "               ...    \n",
       "29117832    3491016295\n",
       "29117892    8570161822\n",
       "29117938    7946582171\n",
       "29117956    3895820311\n",
       "29118020    7028698129\n",
       "Name: place_id, Length: 1149346, dtype: int64"
      ]
     },
     "execution_count": 39,
     "metadata": {},
     "output_type": "execute_result"
    }
   ],
   "source": [
    "# 1.基本数据处理\n",
    "# 1.1 缩小数据范围\n",
    "partial_data = data.query('x>2.0 & y<2.5 & y >2.0 & y<2.5')"
   ]
  },
  {
   "cell_type": "code",
   "execution_count": 43,
   "id": "d5276fc2",
   "metadata": {},
   "outputs": [
    {
     "data": {
      "text/html": [
       "<div>\n",
       "<style scoped>\n",
       "    .dataframe tbody tr th:only-of-type {\n",
       "        vertical-align: middle;\n",
       "    }\n",
       "\n",
       "    .dataframe tbody tr th {\n",
       "        vertical-align: top;\n",
       "    }\n",
       "\n",
       "    .dataframe thead th {\n",
       "        text-align: right;\n",
       "    }\n",
       "</style>\n",
       "<table border=\"1\" class=\"dataframe\">\n",
       "  <thead>\n",
       "    <tr style=\"text-align: right;\">\n",
       "      <th></th>\n",
       "      <th>row_id</th>\n",
       "      <th>x</th>\n",
       "      <th>y</th>\n",
       "      <th>accuracy</th>\n",
       "      <th>time</th>\n",
       "      <th>place_id</th>\n",
       "      <th>hour</th>\n",
       "      <th>day</th>\n",
       "      <th>weekday</th>\n",
       "    </tr>\n",
       "  </thead>\n",
       "  <tbody>\n",
       "    <tr>\n",
       "      <th>82</th>\n",
       "      <td>82</td>\n",
       "      <td>2.9265</td>\n",
       "      <td>2.3590</td>\n",
       "      <td>55</td>\n",
       "      <td>415119</td>\n",
       "      <td>9313893105</td>\n",
       "      <td>19</td>\n",
       "      <td>5</td>\n",
       "      <td>0</td>\n",
       "    </tr>\n",
       "    <tr>\n",
       "      <th>91</th>\n",
       "      <td>91</td>\n",
       "      <td>3.5149</td>\n",
       "      <td>2.4510</td>\n",
       "      <td>3</td>\n",
       "      <td>202338</td>\n",
       "      <td>4639582171</td>\n",
       "      <td>8</td>\n",
       "      <td>3</td>\n",
       "      <td>5</td>\n",
       "    </tr>\n",
       "    <tr>\n",
       "      <th>93</th>\n",
       "      <td>93</td>\n",
       "      <td>4.8579</td>\n",
       "      <td>2.4629</td>\n",
       "      <td>33</td>\n",
       "      <td>643386</td>\n",
       "      <td>2677147592</td>\n",
       "      <td>10</td>\n",
       "      <td>8</td>\n",
       "      <td>3</td>\n",
       "    </tr>\n",
       "    <tr>\n",
       "      <th>101</th>\n",
       "      <td>101</td>\n",
       "      <td>3.4777</td>\n",
       "      <td>2.0938</td>\n",
       "      <td>71</td>\n",
       "      <td>115352</td>\n",
       "      <td>3762957785</td>\n",
       "      <td>8</td>\n",
       "      <td>2</td>\n",
       "      <td>4</td>\n",
       "    </tr>\n",
       "    <tr>\n",
       "      <th>122</th>\n",
       "      <td>122</td>\n",
       "      <td>4.7218</td>\n",
       "      <td>2.4048</td>\n",
       "      <td>60</td>\n",
       "      <td>338360</td>\n",
       "      <td>8663061061</td>\n",
       "      <td>21</td>\n",
       "      <td>4</td>\n",
       "      <td>6</td>\n",
       "    </tr>\n",
       "  </tbody>\n",
       "</table>\n",
       "</div>"
      ],
      "text/plain": [
       "     row_id       x       y  accuracy    time    place_id  hour  day  weekday\n",
       "82       82  2.9265  2.3590        55  415119  9313893105    19    5        0\n",
       "91       91  3.5149  2.4510         3  202338  4639582171     8    3        5\n",
       "93       93  4.8579  2.4629        33  643386  2677147592    10    8        3\n",
       "101     101  3.4777  2.0938        71  115352  3762957785     8    2        4\n",
       "122     122  4.7218  2.4048        60  338360  8663061061    21    4        6"
      ]
     },
     "execution_count": 43,
     "metadata": {},
     "output_type": "execute_result"
    }
   ],
   "source": [
    "# 2.2 选择时间特征\n",
    "time = pd.to_datetime(partial_data['time'],unit = 's')\n",
    "time = pd.DatetimeIndex(time)\n",
    "partial_data['hour'] = time.hour\n",
    "partial_data['day'] = time.day\n",
    "partial_data['weekday'] = time.weekday\n",
    "partial_data.head()"
   ]
  },
  {
   "cell_type": "code",
   "execution_count": 44,
   "id": "3ad1e6e8",
   "metadata": {},
   "outputs": [
    {
     "data": {
      "text/html": [
       "<div>\n",
       "<style scoped>\n",
       "    .dataframe tbody tr th:only-of-type {\n",
       "        vertical-align: middle;\n",
       "    }\n",
       "\n",
       "    .dataframe tbody tr th {\n",
       "        vertical-align: top;\n",
       "    }\n",
       "\n",
       "    .dataframe thead th {\n",
       "        text-align: right;\n",
       "    }\n",
       "</style>\n",
       "<table border=\"1\" class=\"dataframe\">\n",
       "  <thead>\n",
       "    <tr style=\"text-align: right;\">\n",
       "      <th></th>\n",
       "      <th>row_id</th>\n",
       "      <th>x</th>\n",
       "      <th>y</th>\n",
       "      <th>accuracy</th>\n",
       "      <th>time</th>\n",
       "      <th>place_id</th>\n",
       "      <th>hour</th>\n",
       "      <th>day</th>\n",
       "      <th>weekday</th>\n",
       "    </tr>\n",
       "  </thead>\n",
       "  <tbody>\n",
       "    <tr>\n",
       "      <th>82</th>\n",
       "      <td>82</td>\n",
       "      <td>2.9265</td>\n",
       "      <td>2.3590</td>\n",
       "      <td>55</td>\n",
       "      <td>415119</td>\n",
       "      <td>9313893105</td>\n",
       "      <td>19</td>\n",
       "      <td>5</td>\n",
       "      <td>0</td>\n",
       "    </tr>\n",
       "    <tr>\n",
       "      <th>91</th>\n",
       "      <td>91</td>\n",
       "      <td>3.5149</td>\n",
       "      <td>2.4510</td>\n",
       "      <td>3</td>\n",
       "      <td>202338</td>\n",
       "      <td>4639582171</td>\n",
       "      <td>8</td>\n",
       "      <td>3</td>\n",
       "      <td>5</td>\n",
       "    </tr>\n",
       "    <tr>\n",
       "      <th>93</th>\n",
       "      <td>93</td>\n",
       "      <td>4.8579</td>\n",
       "      <td>2.4629</td>\n",
       "      <td>33</td>\n",
       "      <td>643386</td>\n",
       "      <td>2677147592</td>\n",
       "      <td>10</td>\n",
       "      <td>8</td>\n",
       "      <td>3</td>\n",
       "    </tr>\n",
       "    <tr>\n",
       "      <th>101</th>\n",
       "      <td>101</td>\n",
       "      <td>3.4777</td>\n",
       "      <td>2.0938</td>\n",
       "      <td>71</td>\n",
       "      <td>115352</td>\n",
       "      <td>3762957785</td>\n",
       "      <td>8</td>\n",
       "      <td>2</td>\n",
       "      <td>4</td>\n",
       "    </tr>\n",
       "    <tr>\n",
       "      <th>122</th>\n",
       "      <td>122</td>\n",
       "      <td>4.7218</td>\n",
       "      <td>2.4048</td>\n",
       "      <td>60</td>\n",
       "      <td>338360</td>\n",
       "      <td>8663061061</td>\n",
       "      <td>21</td>\n",
       "      <td>4</td>\n",
       "      <td>6</td>\n",
       "    </tr>\n",
       "  </tbody>\n",
       "</table>\n",
       "</div>"
      ],
      "text/plain": [
       "     row_id       x       y  accuracy    time    place_id  hour  day  weekday\n",
       "82       82  2.9265  2.3590        55  415119  9313893105    19    5        0\n",
       "91       91  3.5149  2.4510         3  202338  4639582171     8    3        5\n",
       "93       93  4.8579  2.4629        33  643386  2677147592    10    8        3\n",
       "101     101  3.4777  2.0938        71  115352  3762957785     8    2        4\n",
       "122     122  4.7218  2.4048        60  338360  8663061061    21    4        6"
      ]
     },
     "execution_count": 44,
     "metadata": {},
     "output_type": "execute_result"
    }
   ],
   "source": [
    "# 2.3 按照所去的地方分类,小于三次的剔除掉\n",
    "partial_count = partial_data.groupby('place_id').count()\n",
    "partial_count = partial_count[partial_count.row_id > 3]\n",
    "partial_data = partial_data[partial_data.place_id.isin(partial_count.index)]\n",
    "partial_data.head()"
   ]
  },
  {
   "cell_type": "code",
   "execution_count": 45,
   "id": "20b411ec",
   "metadata": {},
   "outputs": [],
   "source": [
    "# 2.4 确定特征值和目标值\n",
    "x = partial_data[['x','y','accuracy','hour','day','weekday']]\n",
    "y = partial_data['place_id']\n",
    "# 2.5 分割数据集\n",
    "x_train,x_test,y_train,y_test = train_test_split(x,y,test_size= 0.2,random_state= 20)"
   ]
  },
  {
   "cell_type": "code",
   "execution_count": 46,
   "id": "2511bdec",
   "metadata": {},
   "outputs": [],
   "source": [
    "# 3 特征工程\n",
    "# 3.1 数据标准化\n",
    "transfer = StandardScaler()\n",
    "x_train = transfer.fit_transform(x_train)\n",
    "x_test = transfer.fit_transform(x_test)"
   ]
  },
  {
   "cell_type": "code",
   "execution_count": 55,
   "id": "79b4165b",
   "metadata": {},
   "outputs": [
    {
     "name": "stderr",
     "output_type": "stream",
     "text": [
      "/opt/homebrew/Caskroom/miniforge/base/envs/ml/lib/python3.8/site-packages/sklearn/model_selection/_split.py:676: UserWarning: The least populated class in y has only 1 members, which is less than n_splits=4.\n",
      "  warnings.warn(\n"
     ]
    },
    {
     "data": {
      "text/plain": [
       "GridSearchCV(cv=4, estimator=KNeighborsClassifier(), n_jobs=-1,\n",
       "             param_grid={'n_neighbors': [3, 5, 7, 9]})"
      ]
     },
     "execution_count": 55,
     "metadata": {},
     "output_type": "execute_result"
    }
   ],
   "source": [
    "# 4 模型训练\n",
    "# 4.1 交叉验证与网格搜索\n",
    "estimator = KNeighborsClassifier()\n",
    "# 定义超参数\n",
    "param_grid = {'n_neighbors':[3,5,7,9]}\n",
    "# 定义几折交叉验证，此处为4\n",
    "estimator = GridSearchCV(estimator,param_grid = param_grid,cv = 4,n_jobs = -1)\n",
    "estimator.fit(x_train,y_train)"
   ]
  },
  {
   "cell_type": "code",
   "execution_count": 56,
   "id": "f826fec4",
   "metadata": {},
   "outputs": [
    {
     "name": "stdout",
     "output_type": "stream",
     "text": [
      "0.2226921165299129\n",
      "0.20832602176748913\n",
      "KNeighborsClassifier(n_neighbors=9)\n"
     ]
    }
   ],
   "source": [
    "# 5 预测结果\n",
    "score = estimator.score(x_test,y_test)\n",
    "print(score)\n",
    "print(estimator.best_score_)\n",
    "print(estimator.best_estimator_)"
   ]
  },
  {
   "cell_type": "code",
   "execution_count": null,
   "id": "7f801793",
   "metadata": {},
   "outputs": [],
   "source": []
  }
 ],
 "metadata": {
  "kernelspec": {
   "display_name": "Python 3 (ipykernel)",
   "language": "python",
   "name": "python3"
  },
  "language_info": {
   "codemirror_mode": {
    "name": "ipython",
    "version": 3
   },
   "file_extension": ".py",
   "mimetype": "text/x-python",
   "name": "python",
   "nbconvert_exporter": "python",
   "pygments_lexer": "ipython3",
   "version": "3.8.12"
  }
 },
 "nbformat": 4,
 "nbformat_minor": 5
}